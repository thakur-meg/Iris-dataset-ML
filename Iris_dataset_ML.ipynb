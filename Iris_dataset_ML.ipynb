{
  "nbformat": 4,
  "nbformat_minor": 0,
  "metadata": {
    "colab": {
      "name": "Iris-dataset-ML.ipynb",
      "provenance": [],
      "authorship_tag": "ABX9TyPmwOOUt4QJDYOME8yrZ5WD"
    },
    "kernelspec": {
      "name": "python3",
      "display_name": "Python 3"
    }
  },
  "cells": [
    {
      "cell_type": "markdown",
      "metadata": {
        "id": "aGJxv1_SjoBp"
      },
      "source": [
        "# **IRIS DATASET PROEJCT**\n"
      ]
    },
    {
      "cell_type": "markdown",
      "metadata": {
        "id": "n5olAlqo4Yjo"
      },
      "source": [
        "## Exploring the Data"
      ]
    },
    {
      "cell_type": "markdown",
      "metadata": {
        "id": "yYjYTzQtjyk5"
      },
      "source": [
        "First of all, we will import the libraries we will be using into our code. The ones we will be using here are the numpy and pandas. "
      ]
    },
    {
      "cell_type": "code",
      "metadata": {
        "id": "jfw2DqOcAt-1"
      },
      "source": [
        "import numpy as np\n",
        "import pandas as pd"
      ],
      "execution_count": null,
      "outputs": []
    },
    {
      "cell_type": "markdown",
      "metadata": {
        "id": "WB7FvkLoj-C_"
      },
      "source": [
        "To proceed forward in this project, first we will import the scikit-learn iris dataset, a classic example of machine learning and statastics. By using load_iris function we will load the dataset."
      ]
    },
    {
      "cell_type": "code",
      "metadata": {
        "id": "-f2IeL8uBBdK"
      },
      "source": [
        "from sklearn import datasets\n",
        "iris = datasets.load_iris()"
      ],
      "execution_count": null,
      "outputs": []
    },
    {
      "cell_type": "markdown",
      "metadata": {
        "id": "xjo6q-t5mElU"
      },
      "source": [
        "Like a dictionary, the iris dataset has keys and values."
      ]
    },
    {
      "cell_type": "code",
      "metadata": {
        "colab": {
          "base_uri": "https://localhost:8080/"
        },
        "id": "c3W3gwcmDWoJ",
        "outputId": "2c627dfb-a3b2-48fd-d4a7-3ab01b3ec6f8"
      },
      "source": [
        "print(\"Keys of Iris datasets: \\n{}\".format(iris.keys()))"
      ],
      "execution_count": null,
      "outputs": [
        {
          "output_type": "stream",
          "text": [
            "Keys of Iris datasets: \n",
            "dict_keys(['data', 'target', 'target_names', 'DESCR', 'feature_names', 'filename'])\n"
          ],
          "name": "stdout"
        }
      ]
    },
    {
      "cell_type": "markdown",
      "metadata": {
        "id": "NCpPylpliuL4"
      },
      "source": [
        "Let's discuss these keys in details and understand what type of data do they store.\n",
        "1. **DESCR**\n",
        "\n",
        "    The DESCR stores a short summary about the iris dataset, hence by using the print string we can find further about the dataset.\n",
        "\n",
        "\n"
      ]
    },
    {
      "cell_type": "code",
      "metadata": {
        "colab": {
          "base_uri": "https://localhost:8080/"
        },
        "id": "v5MRbdPQDw4d",
        "outputId": "a244ad4b-5f07-42f1-97f4-1146bbdeabe6"
      },
      "source": [
        "print(iris['DESCR'][:200] + \"\\n . . .\") #with the 200 value we are able to view upto 200 words of the data."
      ],
      "execution_count": null,
      "outputs": [
        {
          "output_type": "stream",
          "text": [
            ".. _iris_dataset:\n",
            "\n",
            "Iris plants dataset\n",
            "--------------------\n",
            "\n",
            "**Data Set Characteristics:**\n",
            "\n",
            "    :Number of Instances: 150 (50 in each of three classes)\n",
            "    :Number of Attributes: 4 numeric, predictive\n",
            " . . .\n"
          ],
          "name": "stdout"
        }
      ]
    },
    {
      "cell_type": "markdown",
      "metadata": {
        "id": "ygWcNf6DnUpz"
      },
      "source": [
        "  2. **target_names**\n",
        "      \n",
        "      It is an array of strings of species of flowers that we want to predicti.e. 'setosa', 'versicolor' and 'virginica'."
      ]
    },
    {
      "cell_type": "code",
      "metadata": {
        "colab": {
          "base_uri": "https://localhost:8080/"
        },
        "id": "ss3sq-c3imc2",
        "outputId": "cd8b2e5a-4668-4fee-b4ad-f4b29b7d8fd8"
      },
      "source": [
        "print(\"Target names: {}\".format(iris['target_names']))"
      ],
      "execution_count": null,
      "outputs": [
        {
          "output_type": "stream",
          "text": [
            "Target names: ['setosa' 'versicolor' 'virginica']\n"
          ],
          "name": "stdout"
        }
      ]
    },
    {
      "cell_type": "markdown",
      "metadata": {
        "id": "KXQUa4WUphqg"
      },
      "source": [
        "  3. **feature_names**\n",
        "\n",
        "        This is a list of strings which includes each feature of description of the flowers i.e. 'sepal length (cm)', 'sepal width (cm)', 'petal length (cm)' and 'petal width (cm)'"
      ]
    },
    {
      "cell_type": "code",
      "metadata": {
        "colab": {
          "base_uri": "https://localhost:8080/"
        },
        "id": "eELAi-PbpqI6",
        "outputId": "94648f4f-2fda-41a7-89a4-95871f74999d"
      },
      "source": [
        "print(\"Feature names: \\n{}\".format(iris['feature_names']))"
      ],
      "execution_count": null,
      "outputs": [
        {
          "output_type": "stream",
          "text": [
            "Feature names: \n",
            "['sepal length (cm)', 'sepal width (cm)', 'petal length (cm)', 'petal width (cm)']\n"
          ],
          "name": "stdout"
        }
      ]
    },
    {
      "cell_type": "markdown",
      "metadata": {
        "id": "FrUrDNzegjiQ"
      },
      "source": [
        "  4. **data**\n",
        "\n",
        "        This contains the numeric values (the training data) of sepal length,sepal width, petal length and petal width in NumPy array. "
      ]
    },
    {
      "cell_type": "code",
      "metadata": {
        "colab": {
          "base_uri": "https://localhost:8080/"
        },
        "id": "cdChKqL5hFqV",
        "outputId": "fc0ee9cc-8b0a-4178-a85d-c9ae11dc613d"
      },
      "source": [
        "print(\"Type of data: {}\". format(type(iris['data'])))"
      ],
      "execution_count": null,
      "outputs": [
        {
          "output_type": "stream",
          "text": [
            "Type of data: <class 'numpy.ndarray'>\n"
          ],
          "name": "stdout"
        }
      ]
    },
    {
      "cell_type": "markdown",
      "metadata": {
        "id": "VOOLQ0Pqhx9H"
      },
      "source": [
        "  Rows in the data correspond to the flowers while the columns correspond to the four measurements(feature names) of the flowers."
      ]
    },
    {
      "cell_type": "code",
      "metadata": {
        "id": "lWjw9GtQiDg2",
        "colab": {
          "base_uri": "https://localhost:8080/"
        },
        "outputId": "17c839af-17ef-47d6-b73f-b42b8411feff"
      },
      "source": [
        "print(\"shape of the data: {}\".format(iris['data'].shape))"
      ],
      "execution_count": null,
      "outputs": [
        {
          "output_type": "stream",
          "text": [
            "shape of the data: (150, 4)\n"
          ],
          "name": "stdout"
        }
      ]
    },
    {
      "cell_type": "markdown",
      "metadata": {
        "id": "PVCGCa7HilZk"
      },
      "source": [
        "  From the above code it can be observed that the array holds the feature measurement for 150 different flowers. Here the 150 flowers can be categorised as the data points. The sahpe of the data s 150 sample multiplied by 4 features."
      ]
    },
    {
      "cell_type": "code",
      "metadata": {
        "colab": {
          "base_uri": "https://localhost:8080/"
        },
        "id": "RTQp-uCEi0zO",
        "outputId": "1a0023d5-f410-42ed-99a7-8c061085dc82"
      },
      "source": [
        "print(\"First five rows of the data: {}\".format(iris['data'][:5]))"
      ],
      "execution_count": null,
      "outputs": [
        {
          "output_type": "stream",
          "text": [
            "First five rows of the data: [[5.1 3.5 1.4 0.2]\n",
            " [4.9 3.  1.4 0.2]\n",
            " [4.7 3.2 1.3 0.2]\n",
            " [4.6 3.1 1.5 0.2]\n",
            " [5.  3.6 1.4 0.2]]\n"
          ],
          "name": "stdout"
        }
      ]
    },
    {
      "cell_type": "markdown",
      "metadata": {
        "id": "0KKtRbTA2Pfc"
      },
      "source": [
        "  The first colum represents the the sepal length. Second reprsents the sepal width and thrid and fourth represent petal lengths and petals widths respectively."
      ]
    },
    {
      "cell_type": "markdown",
      "metadata": {
        "id": "nVCB7uhKxg55"
      },
      "source": [
        "  5. **target**\n",
        "\n",
        "        Target is a one dimensional array that contains one entry per flower.        "
      ]
    },
    {
      "cell_type": "code",
      "metadata": {
        "colab": {
          "base_uri": "https://localhost:8080/"
        },
        "id": "9SBTUNiAzQE9",
        "outputId": "7a4d7e69-a631-4f58-a3ee-3010a8ba8c37"
      },
      "source": [
        "print(\"Type of target: {}\".format(type(iris['target'])))"
      ],
      "execution_count": null,
      "outputs": [
        {
          "output_type": "stream",
          "text": [
            "Type of target: <class 'numpy.ndarray'>\n"
          ],
          "name": "stdout"
        }
      ]
    },
    {
      "cell_type": "code",
      "metadata": {
        "id": "msZ6k2hd_z9_",
        "colab": {
          "base_uri": "https://localhost:8080/"
        },
        "outputId": "b342530c-ac95-4283-e014-1567a9a24a35"
      },
      "source": [
        "print(\"Shape of target: {}\".format(iris['target'].shape))"
      ],
      "execution_count": null,
      "outputs": [
        {
          "output_type": "stream",
          "text": [
            "Shape of target: (150,)\n"
          ],
          "name": "stdout"
        }
      ]
    },
    {
      "cell_type": "markdown",
      "metadata": {
        "id": "bFx9a-5J3e7Y"
      },
      "source": [
        "  Based on the target values we can conclude that the flowers are encoded as integers from 0 to 2."
      ]
    },
    {
      "cell_type": "code",
      "metadata": {
        "id": "EHmvq49V__ID",
        "colab": {
          "base_uri": "https://localhost:8080/"
        },
        "outputId": "dc4cabd8-7ee1-4326-f317-54bc66fde256"
      },
      "source": [
        "print(\"Target: \\n{}\".format(iris['target']))"
      ],
      "execution_count": null,
      "outputs": [
        {
          "output_type": "stream",
          "text": [
            "Target: \n",
            "[0 0 0 0 0 0 0 0 0 0 0 0 0 0 0 0 0 0 0 0 0 0 0 0 0 0 0 0 0 0 0 0 0 0 0 0 0\n",
            " 0 0 0 0 0 0 0 0 0 0 0 0 0 1 1 1 1 1 1 1 1 1 1 1 1 1 1 1 1 1 1 1 1 1 1 1 1\n",
            " 1 1 1 1 1 1 1 1 1 1 1 1 1 1 1 1 1 1 1 1 1 1 1 1 1 1 2 2 2 2 2 2 2 2 2 2 2\n",
            " 2 2 2 2 2 2 2 2 2 2 2 2 2 2 2 2 2 2 2 2 2 2 2 2 2 2 2 2 2 2 2 2 2 2 2 2 2\n",
            " 2 2]\n"
          ],
          "name": "stdout"
        }
      ]
    },
    {
      "cell_type": "markdown",
      "metadata": {
        "id": "zcl7B-VT3qiK"
      },
      "source": [
        "  Here the '0' represents the 'setosa', '1' represents 'versicolor' and the '2' represents 'virginica'."
      ]
    },
    {
      "cell_type": "markdown",
      "metadata": {
        "id": "TajBzbldXfbi"
      },
      "source": [
        "This represent the filename of the project."
      ]
    },
    {
      "cell_type": "code",
      "metadata": {
        "colab": {
          "base_uri": "https://localhost:8080/"
        },
        "id": "5vfxJpEDXVX1",
        "outputId": "2693fd6b-4ccf-473e-e6c2-36236da5971a"
      },
      "source": [
        "print(\"File name {}\".format(iris['filename']))"
      ],
      "execution_count": null,
      "outputs": [
        {
          "output_type": "stream",
          "text": [
            "File name /usr/local/lib/python3.6/dist-packages/sklearn/datasets/data/iris.csv\n"
          ],
          "name": "stdout"
        }
      ]
    },
    {
      "cell_type": "markdown",
      "metadata": {
        "id": "KUfLy_v_4NvF"
      },
      "source": [
        "## Measuring Sucess: Training and Testing Data"
      ]
    },
    {
      "cell_type": "markdown",
      "metadata": {
        "id": "Prr4IVixA8ac"
      },
      "source": [
        "In scikit-learn, data is usually denoted with a capital X, while labels are denoted by lower case y. THis is inspired by standard formulation in mathematics, f(x)=y, where x is input and y is the output by convention.\n",
        "Capital X is for data, a two-dimensional array, and lower case y is for target, a one-dimensional array (a vector)."
      ]
    },
    {
      "cell_type": "code",
      "metadata": {
        "id": "yYYCBrTu9b8R"
      },
      "source": [
        "from sklearn.model_selection import train_test_split\n",
        "X_train, X_test, y_train, y_test = train_test_split(\n",
        "                        iris['data'], iris['target'], random_state=0)"
      ],
      "execution_count": null,
      "outputs": []
    },
    {
      "cell_type": "markdown",
      "metadata": {
        "id": "urV8mA8G-HKq"
      },
      "source": [
        "Classically in a machine learning model, the 75% should be training data whereas 25% should be test data."
      ]
    },
    {
      "cell_type": "code",
      "metadata": {
        "colab": {
          "base_uri": "https://localhost:8080/"
        },
        "id": "ypl6jIGs-NKh",
        "outputId": "9a6e8a5b-78f4-498d-c835-d048c1e47b7a"
      },
      "source": [
        "print(\"X_train shape: {}\".format(X_train.shape))\n",
        "print(\"y_train shape: {}\".format(y_train.shape))\n",
        "print(\"X_test shape: {}\".format(X_test.shape))\n",
        "print(\"y_test shape: {}\".format(y_test. shape))"
      ],
      "execution_count": null,
      "outputs": [
        {
          "output_type": "stream",
          "text": [
            "X_train shape: (112, 4)\n",
            "y_train shape: (112,)\n",
            "X_test shape: (38, 4)\n",
            "y_test shape: (38,)\n"
          ],
          "name": "stdout"
        }
      ]
    },
    {
      "cell_type": "markdown",
      "metadata": {
        "id": "3CkjEkOmCmTj"
      },
      "source": [
        "Here we have printed the shape of the X-train, X-test, y_train, y_test. Both the training data and test data have same column respectively."
      ]
    },
    {
      "cell_type": "markdown",
      "metadata": {
        "id": "wcgvL2YOKLcf"
      },
      "source": [
        "Now we are making a k- nearest neighbor learning model."
      ]
    },
    {
      "cell_type": "code",
      "metadata": {
        "id": "bx5MqE3bC8Vh"
      },
      "source": [
        "from sklearn.neighbors import KNeighborsClassifier\n",
        "knn = KNeighborsClassifier(n_neighbors=1)"
      ],
      "execution_count": null,
      "outputs": []
    },
    {
      "cell_type": "markdown",
      "metadata": {
        "id": "yhWj81onKtR9"
      },
      "source": [
        "Now after giving the data we need to train the model."
      ]
    },
    {
      "cell_type": "code",
      "metadata": {
        "colab": {
          "base_uri": "https://localhost:8080/"
        },
        "id": "DkGzZ0H_KpzA",
        "outputId": "3e474667-f1a3-449c-8285-02a52d41641f"
      },
      "source": [
        "knn.fit(X_train, y_train)"
      ],
      "execution_count": null,
      "outputs": [
        {
          "output_type": "execute_result",
          "data": {
            "text/plain": [
              "KNeighborsClassifier(algorithm='auto', leaf_size=30, metric='minkowski',\n",
              "                     metric_params=None, n_jobs=None, n_neighbors=1, p=2,\n",
              "                     weights='uniform')"
            ]
          },
          "metadata": {
            "tags": []
          },
          "execution_count": 21
        }
      ]
    },
    {
      "cell_type": "markdown",
      "metadata": {
        "id": "kkAaih-BK3Jc"
      },
      "source": [
        "## Making Predictions"
      ]
    },
    {
      "cell_type": "markdown",
      "metadata": {
        "id": "L9n76xG4K7eQ"
      },
      "source": [
        "Now that the model has been trained, we can now start making predictions on new data and provide it an appropriate label."
      ]
    },
    {
      "cell_type": "markdown",
      "metadata": {
        "id": "gOBj5HFqMALp"
      },
      "source": [
        "So, now let's test the data and put it in a NumPy array to make a prediction about the label. Assume that sepal length is 5 cm, 2.9 cm is sepal width, 1 cm is petal length and 0.2 cm is petal width."
      ]
    },
    {
      "cell_type": "code",
      "metadata": {
        "colab": {
          "base_uri": "https://localhost:8080/"
        },
        "id": "rjOhuu_zLLZ2",
        "outputId": "caafdc9e-7dcf-4178-9e6b-d799a4bd17ff"
      },
      "source": [
        "X_new = np.array([[5, 2.9, 1, 0.2]])\n",
        "print(\"X_new.shape: {}\".format(X_new.shape))\n",
        "X_new.shape: (1, 4)"
      ],
      "execution_count": null,
      "outputs": [
        {
          "output_type": "stream",
          "text": [
            "X_new.shape: (1, 4)\n"
          ],
          "name": "stdout"
        }
      ]
    },
    {
      "cell_type": "markdown",
      "metadata": {
        "id": "4IBg6ZrEPh6S"
      },
      "source": [
        "Now, using the model we are going to predict the species of the flower (target name)."
      ]
    },
    {
      "cell_type": "code",
      "metadata": {
        "colab": {
          "base_uri": "https://localhost:8080/"
        },
        "id": "Nfg7HucmNAxh",
        "outputId": "01664811-5255-40aa-fb11-0bf0a2235af9"
      },
      "source": [
        "prediction = knn.predict(X_new)\n",
        "\n",
        "print(\"Prediction: {}\".format(prediction))\n",
        "print(\"Predict target name: {}\".format(\n",
        "    iris['target_names'][prediction]))\n"
      ],
      "execution_count": null,
      "outputs": [
        {
          "output_type": "stream",
          "text": [
            "Prediction: [0]\n",
            "Predict target name: ['setosa']\n"
          ],
          "name": "stdout"
        }
      ]
    },
    {
      "cell_type": "markdown",
      "metadata": {
        "id": "O-1zBDOzNG7P"
      },
      "source": [
        "## Evaluating the Model"
      ]
    },
    {
      "cell_type": "markdown",
      "metadata": {
        "id": "3duqhZoRNSBl"
      },
      "source": [
        "Now we are going to test the model and check its efficiency."
      ]
    },
    {
      "cell_type": "code",
      "metadata": {
        "colab": {
          "base_uri": "https://localhost:8080/"
        },
        "id": "ll2WW4DTNVwr",
        "outputId": "f4781070-304d-4d14-ec10-932b39a25845"
      },
      "source": [
        "y_pred = knn.predict(X_test)\n",
        "print(\"Test set predictions: \\n {}\".format(y_pred))"
      ],
      "execution_count": null,
      "outputs": [
        {
          "output_type": "stream",
          "text": [
            "Test set predictions: \n",
            " [2 1 0 2 0 2 0 1 1 1 2 1 1 1 1 0 1 1 0 0 2 1 0 0 2 0 0 1 1 0 2 1 0 2 2 1 0\n",
            " 2]\n"
          ],
          "name": "stdout"
        }
      ]
    },
    {
      "cell_type": "code",
      "metadata": {
        "colab": {
          "base_uri": "https://localhost:8080/"
        },
        "id": "hHwrnEVUNhUo",
        "outputId": "ec4a48d7-5d68-4c81-e010-00ae2d7297ff"
      },
      "source": [
        "print(\"Test set score: {}\".format(np.mean(y_pred == y_test)))"
      ],
      "execution_count": null,
      "outputs": [
        {
          "output_type": "stream",
          "text": [
            "Test set score: 0.9736842105263158\n"
          ],
          "name": "stdout"
        }
      ]
    },
    {
      "cell_type": "markdown",
      "metadata": {
        "id": "qM-Yo6w0N2f2"
      },
      "source": [
        "Hence, accuracy of our model is 97.368%."
      ]
    }
  ]
}